{
 "cells": [
  {
   "cell_type": "code",
   "execution_count": 1,
   "metadata": {},
   "outputs": [
    {
     "name": "stderr",
     "output_type": "stream",
     "text": [
      "/opt/anaconda3/envs/NeuroTUM/lib/python3.12/site-packages/tqdm/auto.py:21: TqdmWarning: IProgress not found. Please update jupyter and ipywidgets. See https://ipywidgets.readthedocs.io/en/stable/user_install.html\n",
      "  from .autonotebook import tqdm as notebook_tqdm\n"
     ]
    }
   ],
   "source": [
    "import tensorflow as tf\n",
    "from data_loader import SamplesDataLoader\n",
    "\n",
    "root_dir = '/Users/jost/Downloads/SPADES'"
   ]
  },
  {
   "cell_type": "code",
   "execution_count": 2,
   "metadata": {},
   "outputs": [
    {
     "name": "stdout",
     "output_type": "stream",
     "text": [
      "300\n"
     ]
    }
   ],
   "source": [
    "# def generate_dataset(data_loader, batch_size, shuffled = True):\n",
    "#     indexes = range()\n",
    "#     if shuffled:\n",
    "\n",
    "data_loader = SamplesDataLoader(root_dir=root_dir, dataset_type=\"synthetic\")\n",
    "print(len(data_loader.samples))"
   ]
  },
  {
   "cell_type": "code",
   "execution_count": 3,
   "metadata": {},
   "outputs": [],
   "source": [
    "def keras_data_generator(data_loader, batch_size=32, shuffle=True):\n",
    "    # Shuffle indices if required\n",
    "    indices = np.arange(len(data_loader.samples))\n",
    "    if shuffle:\n",
    "        np.random.shuffle(indices)\n",
    "    \n",
    "    # Generator function to yield batches\n",
    "    for start_idx in range(0, len(indices), batch_size):\n",
    "        batch_indices = indices[start_idx:start_idx + batch_size]\n",
    "        \n",
    "        # Collect events and labels for the batch\n",
    "        batch_events = []\n",
    "        batch_labels = []\n",
    "        for idx in batch_indices:\n",
    "            events, labels = data_loader[idx]\n",
    "            batch_events.append(events)\n",
    "            batch_labels.append(labels)\n",
    "        \n",
    "        # Convert to tensors for Keras\n",
    "        batch_events = tf.ragged.constant(batch_events, dtype=tf.float64)\n",
    "        batch_labels = tf.ragged.constant(batch_labels, dtype=tf.float64 if batch_labels[0] is not None else tf.float32)\n",
    "        \n",
    "        yield batch_events, batch_labels"
   ]
  },
  {
   "cell_type": "code",
   "execution_count": 4,
   "metadata": {},
   "outputs": [],
   "source": [
    "\n",
    "# Example usage with tf.data.Dataset\n",
    "data_loader = SamplesDataLoader(root_dir=root_dir, dataset_type='synthetic')\n",
    "dataset = tf.data.Dataset.from_generator(\n",
    "    lambda: keras_data_generator(data_loader, batch_size=32),\n",
    "    output_signature=(\n",
    "        tf.RaggedTensorSpec(shape=[None, None, 4], dtype=tf.float64),\n",
    "        tf.RaggedTensorSpec(shape=[None, 8], dtype=tf.float64)\n",
    "    )\n",
    ")"
   ]
  },
  {
   "cell_type": "code",
   "execution_count": null,
   "metadata": {},
   "outputs": [],
   "source": []
  }
 ],
 "metadata": {
  "kernelspec": {
   "display_name": "NeuroTUM",
   "language": "python",
   "name": "python3"
  },
  "language_info": {
   "codemirror_mode": {
    "name": "ipython",
    "version": 3
   },
   "file_extension": ".py",
   "mimetype": "text/x-python",
   "name": "python",
   "nbconvert_exporter": "python",
   "pygments_lexer": "ipython3",
   "version": "3.12.7"
  }
 },
 "nbformat": 4,
 "nbformat_minor": 2
}
