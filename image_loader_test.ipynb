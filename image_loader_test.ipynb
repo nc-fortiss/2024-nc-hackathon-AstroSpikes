{
 "cells": [
  {
   "cell_type": "markdown",
   "metadata": {},
   "source": [
    "**Script to test the img loader**"
   ]
  },
  {
   "cell_type": "code",
   "execution_count": 34,
   "metadata": {
    "ExecuteTime": {
     "end_time": "2025-02-08T14:12:20.314031Z",
     "start_time": "2025-02-08T14:12:16.023944Z"
    }
   },
   "outputs": [],
   "source": [
    "import pandas as pd\n",
    "from DataLoading import image_loader\n",
    "import tensorflow as tf"
   ]
  },
  {
   "cell_type": "code",
   "execution_count": 35,
   "metadata": {},
   "outputs": [
    {
     "name": "stdout",
     "output_type": "stream",
     "text": [
      "8 2\n"
     ]
    }
   ],
   "source": [
    "img_loader = image_loader.ImageDataLoader(test=True)\n",
    "train, test = img_loader()\n",
    "print(train.cardinality().numpy(), test.cardinality().numpy())"
   ]
  },
  {
   "cell_type": "code",
   "execution_count": 36,
   "metadata": {},
   "outputs": [
    {
     "name": "stderr",
     "output_type": "stream",
     "text": [
      "2025-02-08 16:36:34.020278: I tensorflow/core/common_runtime/executor.cc:1197] [/device:CPU:0] (DEBUG INFO) Executor start aborting (this does not indicate an error and you can ignore this message): INVALID_ARGUMENT: You must feed a value for placeholder tensor 'Placeholder/_0' with dtype string and shape [1198]\n",
      "\t [[{{node Placeholder/_0}}]]\n",
      "2025-02-08 16:36:34.020561: I tensorflow/core/common_runtime/executor.cc:1197] [/device:CPU:0] (DEBUG INFO) Executor start aborting (this does not indicate an error and you can ignore this message): INVALID_ARGUMENT: You must feed a value for placeholder tensor 'Placeholder/_1' with dtype float and shape [1198,7]\n",
      "\t [[{{node Placeholder/_1}}]]\n"
     ]
    },
    {
     "name": "stdout",
     "output_type": "stream",
     "text": [
      "Total train images: 959\n",
      "Total test images: 239\n",
      "Total dataset images: 1198\n"
     ]
    },
    {
     "name": "stderr",
     "output_type": "stream",
     "text": [
      "2025-02-08 16:36:34.369329: I tensorflow/core/common_runtime/executor.cc:1197] [/device:CPU:0] (DEBUG INFO) Executor start aborting (this does not indicate an error and you can ignore this message): INVALID_ARGUMENT: You must feed a value for placeholder tensor 'Placeholder/_0' with dtype string and shape [1198]\n",
      "\t [[{{node Placeholder/_0}}]]\n",
      "2025-02-08 16:36:34.369561: I tensorflow/core/common_runtime/executor.cc:1197] [/device:CPU:0] (DEBUG INFO) Executor start aborting (this does not indicate an error and you can ignore this message): INVALID_ARGUMENT: You must feed a value for placeholder tensor 'Placeholder/_1' with dtype float and shape [1198,7]\n",
      "\t [[{{node Placeholder/_1}}]]\n"
     ]
    }
   ],
   "source": [
    "def count_images(dataset):\n",
    "    total = 0\n",
    "    for batch in dataset:\n",
    "        total += batch[0].shape[0]  # Assuming batch[0] contains images\n",
    "    return total\n",
    "\n",
    "total_train_samples = count_images(train)\n",
    "total_test_samples = count_images(test)\n",
    "\n",
    "print(\"Total train images:\", total_train_samples)\n",
    "print(\"Total test images:\", total_test_samples)\n",
    "print(\"Total dataset images:\", total_train_samples + total_test_samples)"
   ]
  },
  {
   "cell_type": "code",
   "execution_count": null,
   "metadata": {},
   "outputs": [],
   "source": []
  }
 ],
 "metadata": {
  "kernelspec": {
   "display_name": "neuro_hackathon",
   "language": "python",
   "name": "python3"
  },
  "language_info": {
   "codemirror_mode": {
    "name": "ipython",
    "version": 3
   },
   "file_extension": ".py",
   "mimetype": "text/x-python",
   "name": "python",
   "nbconvert_exporter": "python",
   "pygments_lexer": "ipython3",
   "version": "3.9.15"
  }
 },
 "nbformat": 4,
 "nbformat_minor": 2
}
