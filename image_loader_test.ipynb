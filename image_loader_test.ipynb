{
 "cells": [
  {
   "cell_type": "markdown",
   "metadata": {},
   "source": [
    "**Script to test the img loader**"
   ]
  },
  {
   "cell_type": "code",
   "execution_count": 4,
   "metadata": {
    "ExecuteTime": {
     "end_time": "2025-02-08T14:12:20.314031Z",
     "start_time": "2025-02-08T14:12:16.023944Z"
    }
   },
   "outputs": [],
   "source": [
    "import pandas as pd\n",
    "from DataLoading import image_loader\n",
    "import tensorflow as tf"
   ]
  },
  {
   "cell_type": "code",
   "execution_count": 5,
   "metadata": {},
   "outputs": [
    {
     "name": "stdout",
     "output_type": "stream",
     "text": [
      "38 10\n"
     ]
    }
   ],
   "source": [
    "img_loader = image_loader.ImageDataLoader(test=True)\n",
    "train, test = img_loader()\n",
    "print(train.cardinality().numpy(), test.cardinality().numpy())"
   ]
  },
  {
   "cell_type": "code",
   "execution_count": 6,
   "metadata": {},
   "outputs": [
    {
     "name": "stdout",
     "output_type": "stream",
     "text": [
      "Total train images: 4792\n",
      "Total test images: 1198\n",
      "Total dataset images: 5990\n"
     ]
    },
    {
     "name": "stderr",
     "output_type": "stream",
     "text": [
      "2025-03-01 11:25:41.762733: I tensorflow/core/common_runtime/executor.cc:1197] [/device:CPU:0] (DEBUG INFO) Executor start aborting (this does not indicate an error and you can ignore this message): INVALID_ARGUMENT: You must feed a value for placeholder tensor 'Placeholder/_1' with dtype float and shape [5990,7]\n",
      "\t [[{{node Placeholder/_1}}]]\n",
      "2025-03-01 11:25:41.763009: I tensorflow/core/common_runtime/executor.cc:1197] [/device:CPU:0] (DEBUG INFO) Executor start aborting (this does not indicate an error and you can ignore this message): INVALID_ARGUMENT: You must feed a value for placeholder tensor 'Placeholder/_1' with dtype float and shape [5990,7]\n",
      "\t [[{{node Placeholder/_1}}]]\n",
      "2025-03-01 11:25:41.807504: I tensorflow/core/common_runtime/executor.cc:1197] [/device:CPU:0] (DEBUG INFO) Executor start aborting (this does not indicate an error and you can ignore this message): INVALID_ARGUMENT: You must feed a value for placeholder tensor 'Placeholder/_1' with dtype float and shape [5990,7]\n",
      "\t [[{{node Placeholder/_1}}]]\n"
     ]
    }
   ],
   "source": [
    "def count_images(dataset):\n",
    "    total = 0\n",
    "    for batch in dataset:\n",
    "        total += batch[0].shape[0]  # Assuming batch[0] contains images\n",
    "    return total\n",
    "\n",
    "total_train_samples = count_images(train)\n",
    "total_test_samples = count_images(test)\n",
    "\n",
    "print(\"Total train images:\", total_train_samples)\n",
    "print(\"Total test images:\", total_test_samples)\n",
    "print(\"Total dataset images:\", total_train_samples + total_test_samples)"
   ]
  },
  {
   "cell_type": "code",
   "execution_count": 19,
   "metadata": {},
   "outputs": [
    {
     "name": "stdout",
     "output_type": "stream",
     "text": [
      "\n",
      "Epoch 1 - First 5 paths:\n",
      "['/Volumes/T7/SPADES_frames/three_c_representation/seq_RT001/img470_RT001.png', '/Volumes/T7/SPADES_frames/three_c_representation/seq_RT006/img177_RT006.png', '/Volumes/T7/SPADES_frames/three_c_representation/seq_RT007/img451_RT007.png', '/Volumes/T7/SPADES_frames/three_c_representation/seq_RT006/img539_RT006.png', '/Volumes/T7/SPADES_frames/three_c_representation/seq_RT004/img294_RT004.png']\n",
      "\n",
      "Epoch 2 - First 5 paths:\n",
      "['/Volumes/T7/SPADES_frames/three_c_representation/seq_RT010/img026_RT010.png', '/Volumes/T7/SPADES_frames/three_c_representation/seq_RT007/img010_RT007.png', '/Volumes/T7/SPADES_frames/three_c_representation/seq_RT003/img249_RT003.png', '/Volumes/T7/SPADES_frames/three_c_representation/seq_RT010/img489_RT010.png', '/Volumes/T7/SPADES_frames/three_c_representation/seq_RT010/img422_RT010.png']\n",
      "\n",
      "Epoch 3 - First 5 paths:\n",
      "['/Volumes/T7/SPADES_frames/three_c_representation/seq_RT010/img077_RT010.png', '/Volumes/T7/SPADES_frames/three_c_representation/seq_RT011/img213_RT011.png', '/Volumes/T7/SPADES_frames/three_c_representation/seq_RT001/img142_RT001.png', '/Volumes/T7/SPADES_frames/three_c_representation/seq_RT008/img322_RT008.png', '/Volumes/T7/SPADES_frames/three_c_representation/seq_RT008/img519_RT008.png']\n"
     ]
    },
    {
     "name": "stderr",
     "output_type": "stream",
     "text": [
      "2025-03-01 11:51:04.955991: I tensorflow/core/common_runtime/executor.cc:1197] [/device:CPU:0] (DEBUG INFO) Executor start aborting (this does not indicate an error and you can ignore this message): INVALID_ARGUMENT: You must feed a value for placeholder tensor 'Placeholder/_1' with dtype float and shape [5990,7]\n",
      "\t [[{{node Placeholder/_1}}]]\n",
      "2025-03-01 11:51:04.956899: I tensorflow/core/common_runtime/executor.cc:1197] [/device:CPU:0] (DEBUG INFO) Executor start aborting (this does not indicate an error and you can ignore this message): INVALID_ARGUMENT: You must feed a value for placeholder tensor 'Placeholder/_0' with dtype string and shape [5990]\n",
      "\t [[{{node Placeholder/_0}}]]\n",
      "2025-03-01 11:51:05.023705: I tensorflow/core/common_runtime/executor.cc:1197] [/device:CPU:0] (DEBUG INFO) Executor start aborting (this does not indicate an error and you can ignore this message): INVALID_ARGUMENT: You must feed a value for placeholder tensor 'Placeholder/_1' with dtype float and shape [5990,7]\n",
      "\t [[{{node Placeholder/_1}}]]\n",
      "2025-03-01 11:51:05.023940: I tensorflow/core/common_runtime/executor.cc:1197] [/device:CPU:0] (DEBUG INFO) Executor start aborting (this does not indicate an error and you can ignore this message): INVALID_ARGUMENT: You must feed a value for placeholder tensor 'Placeholder/_0' with dtype string and shape [5990]\n",
      "\t [[{{node Placeholder/_0}}]]\n",
      "2025-03-01 11:51:05.046855: I tensorflow/core/common_runtime/executor.cc:1197] [/device:CPU:0] (DEBUG INFO) Executor start aborting (this does not indicate an error and you can ignore this message): INVALID_ARGUMENT: You must feed a value for placeholder tensor 'Placeholder/_0' with dtype string and shape [5990]\n",
      "\t [[{{node Placeholder/_0}}]]\n",
      "2025-03-01 11:51:05.047116: I tensorflow/core/common_runtime/executor.cc:1197] [/device:CPU:0] (DEBUG INFO) Executor start aborting (this does not indicate an error and you can ignore this message): INVALID_ARGUMENT: You must feed a value for placeholder tensor 'Placeholder/_1' with dtype float and shape [5990,7]\n",
      "\t [[{{node Placeholder/_1}}]]\n"
     ]
    }
   ],
   "source": [
    "for epoch in range(3):  # Check first 3 epochs\n",
    "    print(f\"\\nEpoch {epoch+1} - First 5 paths:\")\n",
    "    for batch in train.take(1):\n",
    "        batch_paths = [path.numpy().decode(\"utf-8\") for path in batch[0]]\n",
    "        print(batch_paths[:5])  # Print first 5 paths"
   ]
  },
  {
   "cell_type": "code",
   "execution_count": null,
   "metadata": {},
   "outputs": [],
   "source": []
  }
 ],
 "metadata": {
  "kernelspec": {
   "display_name": "neuro_hackathon",
   "language": "python",
   "name": "python3"
  },
  "language_info": {
   "codemirror_mode": {
    "name": "ipython",
    "version": 3
   },
   "file_extension": ".py",
   "mimetype": "text/x-python",
   "name": "python",
   "nbconvert_exporter": "python",
   "pygments_lexer": "ipython3",
   "version": "3.9.15"
  }
 },
 "nbformat": 4,
 "nbformat_minor": 2
}
