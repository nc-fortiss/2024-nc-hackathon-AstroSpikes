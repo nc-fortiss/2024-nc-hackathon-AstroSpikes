{
 "cells": [
  {
   "cell_type": "code",
   "execution_count": 43,
   "metadata": {},
   "outputs": [
    {
     "name": "stdout",
     "output_type": "stream",
     "text": [
      "Total Loss: 0.34948874\n"
     ]
    }
   ],
   "source": [
    "import tensorflow as tf\n",
    "\n",
    "class PoseEstimationLoss(tf.keras.losses.Loss):\n",
    "    def __init__(self, lambda_pose=1.0, lambda_quat=1.0, lambda_norm=0.1, name='pose_estimation_loss'):\n",
    "        super(PoseEstimationLoss, self).__init__(name=name)\n",
    "        self.lambda_pose = lambda_pose\n",
    "        self.lambda_quat = lambda_quat\n",
    "        self.lambda_norm = lambda_norm\n",
    "        self.mse = tf.keras.losses.MeanSquaredError()\n",
    "\n",
    "    def call(self, y_true, y_pred):\n",
    "        # Split the predictions and targets into pose and quaternion parameters\n",
    "        # Extract first 3 values for the pose\n",
    "        pred_pose = y_pred[:, :3]  # First 3 values for pose\n",
    "        # Extract last 4 values for the quaternion\n",
    "        pred_quat = y_pred[:, 3:]  # Last 4 values for quaternion\n",
    "        \n",
    "        # Extract first 3 values for the pose in the target\n",
    "        target_pose = y_true[:, :3]\n",
    "        # Extract last 4 values for the quaternion in the target\n",
    "        target_quat = y_true[:, 3:]\n",
    "        \n",
    "        # Normalize the predicted quaternion\n",
    "        pred_quat_norm = pred_quat / tf.norm(pred_quat, axis=1, keepdims=True)\n",
    "        \n",
    "        # Pose estimation loss (Mean Squared Error)\n",
    "        pose_loss = self.mse(target_pose, pred_pose)\n",
    "        \n",
    "        # Quaternion regression loss (Mean Squared Error between normalized quaternions)\n",
    "        quat_loss = self.mse(target_quat, pred_quat_norm)\n",
    "        \n",
    "        # Quaternion normalization loss\n",
    "        quat_norm_loss = tf.reduce_mean((tf.norm(pred_quat, axis=1) - 1) ** 2)\n",
    "        \n",
    "        # Total loss with individual weights\n",
    "        total_loss = (\n",
    "            self.lambda_pose * pose_loss +\n",
    "            self.lambda_quat * quat_loss +\n",
    "            self.lambda_norm * quat_norm_loss\n",
    "        )\n",
    "        \n",
    "        return total_loss\n",
    "\n"
   ]
  }
 ],
 "metadata": {
  "kernelspec": {
   "display_name": "hackathon",
   "language": "python",
   "name": "python3"
  },
  "language_info": {
   "codemirror_mode": {
    "name": "ipython",
    "version": 3
   },
   "file_extension": ".py",
   "mimetype": "text/x-python",
   "name": "python",
   "nbconvert_exporter": "python",
   "pygments_lexer": "ipython3",
   "version": "3.10.12"
  }
 },
 "nbformat": 4,
 "nbformat_minor": 2
}
