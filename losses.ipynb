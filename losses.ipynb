{
 "cells": [
  {
   "cell_type": "code",
   "execution_count": 1,
   "metadata": {},
   "outputs": [
    {
     "name": "stderr",
     "output_type": "stream",
     "text": [
      "2024-11-12 16:41:42.147442: I tensorflow/core/util/port.cc:153] oneDNN custom operations are on. You may see slightly different numerical results due to floating-point round-off errors from different computation orders. To turn them off, set the environment variable `TF_ENABLE_ONEDNN_OPTS=0`.\n",
      "2024-11-12 16:41:42.175189: E external/local_xla/xla/stream_executor/cuda/cuda_fft.cc:477] Unable to register cuFFT factory: Attempting to register factory for plugin cuFFT when one has already been registered\n",
      "WARNING: All log messages before absl::InitializeLog() is called are written to STDERR\n",
      "E0000 00:00:1731426102.195288  314935 cuda_dnn.cc:8310] Unable to register cuDNN factory: Attempting to register factory for plugin cuDNN when one has already been registered\n",
      "E0000 00:00:1731426102.202188  314935 cuda_blas.cc:1418] Unable to register cuBLAS factory: Attempting to register factory for plugin cuBLAS when one has already been registered\n",
      "2024-11-12 16:41:42.229255: I tensorflow/core/platform/cpu_feature_guard.cc:210] This TensorFlow binary is optimized to use available CPU instructions in performance-critical operations.\n",
      "To enable the following instructions: AVX2 AVX_VNNI FMA, in other operations, rebuild TensorFlow with the appropriate compiler flags.\n"
     ]
    }
   ],
   "source": [
    "import tensorflow as tf\n",
    "\n",
    "class PoseEstimationLoss(tf.keras.losses.Loss):\n",
    "    def __init__(self, lambda_pose, lambda_quat, lambda_norm, name='pose_estimation_loss'):\n",
    "        super(PoseEstimationLoss, self).__init__(name=name)\n",
    "        self.lambda_pose = lambda_pose\n",
    "        self.lambda_quat = lambda_quat\n",
    "        self.lambda_norm = lambda_norm\n",
    "        self.mse = tf.keras.losses.MeanSquaredError()\n",
    "\n",
    "    def call(self, y_true, y_pred):\n",
    "        # Split the predictions and targets into pose and quaternion parameters\n",
    "        # Extract first 3 values for the pose\n",
    "        pred_pose = y_pred[:, :3]  # First 3 values for pose\n",
    "        # Extract last 4 values for the quaternion\n",
    "        pred_quat = y_pred[:, 3:]  # Last 4 values for quaternion\n",
    "        \n",
    "        # Extract first 3 values for the pose in the target\n",
    "        target_pose = y_true[:, :3]\n",
    "        # Extract last 4 values for the quaternion in the target\n",
    "        target_quat = y_true[:, 3:]\n",
    "        \n",
    "        # Normalize the predicted quaternion\n",
    "        pred_quat_norm = pred_quat / tf.norm(pred_quat, axis=1, keepdims=True)\n",
    "        \n",
    "        # Pose estimation loss (Mean Squared Error)\n",
    "        pose_loss = self.mse(target_pose, pred_pose)\n",
    "        \n",
    "        # Quaternion regression loss (Mean Squared Error between normalized quaternions)\n",
    "        quat_loss = self.mse(target_quat, pred_quat_norm)\n",
    "        \n",
    "        # Quaternion normalization loss\n",
    "        quat_norm_loss = tf.reduce_mean((tf.norm(pred_quat, axis=1) - 1) ** 2)\n",
    "        \n",
    "        # Total loss with individual weights\n",
    "        total_loss = (\n",
    "            self.lambda_pose * pose_loss +\n",
    "            self.lambda_quat * quat_loss +\n",
    "            self.lambda_norm * quat_norm_loss\n",
    "        )\n",
    "        \n",
    "        return total_loss\n",
    "\n"
   ]
  }
 ],
 "metadata": {
  "kernelspec": {
   "display_name": "hackathon",
   "language": "python",
   "name": "python3"
  },
  "language_info": {
   "codemirror_mode": {
    "name": "ipython",
    "version": 3
   },
   "file_extension": ".py",
   "mimetype": "text/x-python",
   "name": "python",
   "nbconvert_exporter": "python",
   "pygments_lexer": "ipython3",
   "version": "3.10.12"
  }
 },
 "nbformat": 4,
 "nbformat_minor": 2
}
