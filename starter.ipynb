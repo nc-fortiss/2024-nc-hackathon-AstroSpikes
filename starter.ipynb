{
 "cells": [
  {
   "cell_type": "code",
   "execution_count": 3,
   "metadata": {},
   "outputs": [],
   "source": [
    "import tonic\n",
    "import tonic.transforms as transforms\n",
    "import numpy as np\n",
    "import tensorflow as tf\n",
    "\n",
    "transform = transforms.ToFrame(sensor_size = (1280, 720), time_window = 100000)\n"
   ]
  },
  {
   "cell_type": "code",
   "execution_count": 33,
   "metadata": {},
   "outputs": [],
   "source": [
    "path = \"/Volumes/CVI2_SPACE_1/SPADES\"\n"
   ]
  },
  {
   "cell_type": "code",
   "execution_count": 36,
   "metadata": {},
   "outputs": [],
   "source": [
    "import tonic\n",
    "import os\n",
    "import pandas as pd\n",
    "import numpy as np\n",
    "\n",
    "class SpacecraftEventDataset(tonic.Dataset):\n",
    "    def __init__(self, root_dir, dataset_type=\"synthetic\", transform=None):\n",
    "        \"\"\"\n",
    "        Args:\n",
    "            root_dir (str): Root directory containing the synthetic or Real dataset folders.\n",
    "            dataset_type (str): Type of dataset to load (\"Synthetic\" or \"Real\").\n",
    "            transform (callable, optional): Optional transform to apply to the events.\n",
    "        \"\"\"\n",
    "    \n",
    "        self.root_dir = root_dir\n",
    "        self.dataset_type = dataset_type\n",
    "        self.samples = self._load_samples()\n",
    "\n",
    "    def _load_samples(self):\n",
    "        \"\"\"\n",
    "        Load event and label files and pair them appropriately.\n",
    "        \n",
    "        Returns:\n",
    "            list of tuples: Each tuple contains paths to an event file and its corresponding label file (for synthetic data).\n",
    "        \"\"\"\n",
    "        samples = []\n",
    "        events_dir = os.path.join(self.root_dir, self.dataset_type, \"events\")\n",
    "        \n",
    "        if self.dataset_type == \"synthetic\":\n",
    "            labels_dir = os.path.join(self.root_dir, self.dataset_type, \"labels\")\n",
    "            for file_name in sorted(os.listdir(events_dir)):\n",
    "                if file_name.endswith(\".csv\"):\n",
    "                    event_file = os.path.join(events_dir, file_name)\n",
    "                    label_file = os.path.join(labels_dir, file_name)\n",
    "                    samples.append((event_file, label_file))\n",
    "        elif self.dataset_type == \"Real\":\n",
    "            for file_name in sorted(os.listdir(events_dir)):\n",
    "                if file_name.endswith(\".csv\"):\n",
    "                    event_file = os.path.join(events_dir, file_name)\n",
    "                    samples.append((event_file, None))\n",
    "        return samples\n",
    "\n",
    "    def _load_events(self, file_path, is_synthetic=True):\n",
    "        \"\"\"\n",
    "        Load event data from a CSV file.\n",
    "        \n",
    "        Args:\n",
    "            file_path (str): Path to the event CSV file.\n",
    "            is_synthetic (bool): Whether the event data is synthetic or real.\n",
    "\n",
    "        Returns:\n",
    "            np.ndarray: Array of events with columns [timestamp, x, y, polarity].\n",
    "        \"\"\"\n",
    "        df = pd.read_csv(file_path)\n",
    "        events = df[['timestamp', 'x', 'y', 'polarity']].values\n",
    "        return events\n",
    "\n",
    "    def _load_labels(self, file_path):\n",
    "        \"\"\"\n",
    "        Load label data from a CSV file.\n",
    "        \n",
    "        Args:\n",
    "            file_path (str): Path to the label CSV file.\n",
    "\n",
    "        Returns:\n",
    "            np.ndarray: Array of labels with columns [Tx, Ty, Tz, Qx, Qy, Qz, Qw].\n",
    "        \"\"\"\n",
    "        df = pd.read_csv(file_path)\n",
    "        labels = df[['Tx', 'Ty', 'Tz', 'Qx', 'Qy', 'Qz', 'Qw']].values\n",
    "        return labels\n",
    "\n",
    "    def __getitem__(self, index):\n",
    "        \"\"\"\n",
    "        Get a sample and its label (if available).\n",
    "\n",
    "        Args:\n",
    "            index (int): Index of the sample.\n",
    "\n",
    "        Returns:\n",
    "            tuple: (events, labels) where events is an array of event data, and labels is an array of labels (if synthetic data).\n",
    "        \"\"\"\n",
    "        event_file, label_file = self.samples[index]\n",
    "        is_synthetic = self.dataset_type == \"synthetic\"\n",
    "        \n",
    "        events = self._load_events(event_file, is_synthetic=is_synthetic)\n",
    "        if label_file:\n",
    "            labels = self._load_labels(label_file)\n",
    "        else:\n",
    "            labels = None\n",
    "\n",
    "        if self.transform:\n",
    "            events = self.transform(events)\n",
    "\n",
    "        return events, labels\n",
    "\n",
    "    def __len__(self):\n",
    "        return len(self.samples)"
   ]
  },
  {
   "cell_type": "code",
   "execution_count": 37,
   "metadata": {},
   "outputs": [
    {
     "ename": "OSError",
     "evalue": "[Errno 22] Invalid argument: '/Volumes/CVI2_SPACE_1/SPADES/synthetic/events'",
     "output_type": "error",
     "traceback": [
      "\u001b[0;31m---------------------------------------------------------------------------\u001b[0m",
      "\u001b[0;31mOSError\u001b[0m                                   Traceback (most recent call last)",
      "Cell \u001b[0;32mIn[37], line 1\u001b[0m\n\u001b[0;32m----> 1\u001b[0m dataset \u001b[38;5;241m=\u001b[39m \u001b[43mSpacecraftEventDataset\u001b[49m\u001b[43m(\u001b[49m\u001b[43mroot_dir\u001b[49m\u001b[38;5;241;43m=\u001b[39;49m\u001b[43mpath\u001b[49m\u001b[43m,\u001b[49m\u001b[43m \u001b[49m\u001b[43mtransform\u001b[49m\u001b[38;5;241;43m=\u001b[39;49m\u001b[43mtransform\u001b[49m\u001b[43m)\u001b[49m\n",
      "Cell \u001b[0;32mIn[36], line 17\u001b[0m, in \u001b[0;36mSpacecraftEventDataset.__init__\u001b[0;34m(self, root_dir, dataset_type, transform)\u001b[0m\n\u001b[1;32m     15\u001b[0m \u001b[38;5;28mself\u001b[39m\u001b[38;5;241m.\u001b[39mroot_dir \u001b[38;5;241m=\u001b[39m root_dir\n\u001b[1;32m     16\u001b[0m \u001b[38;5;28mself\u001b[39m\u001b[38;5;241m.\u001b[39mdataset_type \u001b[38;5;241m=\u001b[39m dataset_type\n\u001b[0;32m---> 17\u001b[0m \u001b[38;5;28mself\u001b[39m\u001b[38;5;241m.\u001b[39msamples \u001b[38;5;241m=\u001b[39m \u001b[38;5;28;43mself\u001b[39;49m\u001b[38;5;241;43m.\u001b[39;49m\u001b[43m_load_samples\u001b[49m\u001b[43m(\u001b[49m\u001b[43m)\u001b[49m\n",
      "Cell \u001b[0;32mIn[36], line 31\u001b[0m, in \u001b[0;36mSpacecraftEventDataset._load_samples\u001b[0;34m(self)\u001b[0m\n\u001b[1;32m     29\u001b[0m \u001b[38;5;28;01mif\u001b[39;00m \u001b[38;5;28mself\u001b[39m\u001b[38;5;241m.\u001b[39mdataset_type \u001b[38;5;241m==\u001b[39m \u001b[38;5;124m\"\u001b[39m\u001b[38;5;124msynthetic\u001b[39m\u001b[38;5;124m\"\u001b[39m:\n\u001b[1;32m     30\u001b[0m     labels_dir \u001b[38;5;241m=\u001b[39m os\u001b[38;5;241m.\u001b[39mpath\u001b[38;5;241m.\u001b[39mjoin(\u001b[38;5;28mself\u001b[39m\u001b[38;5;241m.\u001b[39mroot_dir, \u001b[38;5;28mself\u001b[39m\u001b[38;5;241m.\u001b[39mdataset_type, \u001b[38;5;124m\"\u001b[39m\u001b[38;5;124mlabels\u001b[39m\u001b[38;5;124m\"\u001b[39m)\n\u001b[0;32m---> 31\u001b[0m     \u001b[38;5;28;01mfor\u001b[39;00m file_name \u001b[38;5;129;01min\u001b[39;00m \u001b[38;5;28msorted\u001b[39m(\u001b[43mos\u001b[49m\u001b[38;5;241;43m.\u001b[39;49m\u001b[43mlistdir\u001b[49m\u001b[43m(\u001b[49m\u001b[43mevents_dir\u001b[49m\u001b[43m)\u001b[49m):\n\u001b[1;32m     32\u001b[0m         \u001b[38;5;28;01mif\u001b[39;00m file_name\u001b[38;5;241m.\u001b[39mendswith(\u001b[38;5;124m\"\u001b[39m\u001b[38;5;124m.csv\u001b[39m\u001b[38;5;124m\"\u001b[39m):\n\u001b[1;32m     33\u001b[0m             event_file \u001b[38;5;241m=\u001b[39m os\u001b[38;5;241m.\u001b[39mpath\u001b[38;5;241m.\u001b[39mjoin(events_dir, file_name)\n",
      "\u001b[0;31mOSError\u001b[0m: [Errno 22] Invalid argument: '/Volumes/CVI2_SPACE_1/SPADES/synthetic/events'"
     ]
    }
   ],
   "source": [
    "dataset = SpacecraftEventDataset(root_dir=path, transform=transform)"
   ]
  },
  {
   "cell_type": "code",
   "execution_count": null,
   "metadata": {},
   "outputs": [],
   "source": []
  }
 ],
 "metadata": {
  "kernelspec": {
   "display_name": "NeuroTUM",
   "language": "python",
   "name": "python3"
  },
  "language_info": {
   "codemirror_mode": {
    "name": "ipython",
    "version": 3
   },
   "file_extension": ".py",
   "mimetype": "text/x-python",
   "name": "python",
   "nbconvert_exporter": "python",
   "pygments_lexer": "ipython3",
   "version": "3.12.7"
  }
 },
 "nbformat": 4,
 "nbformat_minor": 2
}
